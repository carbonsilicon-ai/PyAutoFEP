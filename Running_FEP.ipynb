{
 "cells": [
  {
   "attachments": {},
   "cell_type": "markdown",
   "id": "37011da4",
   "metadata": {},
   "source": [
    "# Normal Auto_FEP Workflow"
   ]
  },
  {
   "attachments": {},
   "cell_type": "markdown",
   "id": "ed357573",
   "metadata": {},
   "source": [
    "## 1. 配体预处理\n",
    "\n",
    "1. 配体\"_name\" 属性修改\n",
    "1. 检查化学有效性\n",
    "1. 依据拓扑找出最大微扰map组\n",
    "1. 找出最大charge 相同组\n",
    "1. 重写valid mols 到 指定文件夹\n",
    "\n",
    "参数说明：\n",
    "- `path`: 当前ligands所在目录\n",
    "- `path_valid_mols`: 筛选后有效分子目录\n",
    "- `path_valid_info`: 有效分子信息\n",
    "- `path_invalid_info`: 无效分子信息"
   ]
  },
  {
   "attachments": {},
   "cell_type": "markdown",
   "id": "31ca4b5e",
   "metadata": {},
   "source": [
    "**Step 1. 创建工作目录，后续所有步骤的输出将写到这个目录中**"
   ]
  },
  {
   "cell_type": "code",
   "execution_count": 1,
   "id": "38b9d01f",
   "metadata": {},
   "outputs": [],
   "source": [
    "!mkdir -p output"
   ]
  },
  {
   "attachments": {},
   "cell_type": "markdown",
   "id": "6e57f597",
   "metadata": {},
   "source": [
    "**Step 2. 生成参数配置文件**"
   ]
  },
  {
   "cell_type": "code",
   "execution_count": 2,
   "id": "0a88a8f4",
   "metadata": {},
   "outputs": [
    {
     "name": "stdout",
     "output_type": "stream",
     "text": [
      "Writing output/check_ligs_input.json\n"
     ]
    }
   ],
   "source": [
    "%%writefile output/check_ligs_input.json\n",
    "{\n",
    "  \"path\": \"docs/example/lig_data\",\n",
    "  \"path_valid_mols\": \"output/lig_data_output\",\n",
    "  \"path_valid_info\": \"output/valid_info.csv\",\n",
    "  \"path_invalid_info\": \"output/invalid_info.csv\"\n",
    "}"
   ]
  },
  {
   "attachments": {},
   "cell_type": "markdown",
   "id": "2ca4fc2f",
   "metadata": {},
   "source": [
    "**Step 3. 对指定的小分子 做配体预处理**"
   ]
  },
  {
   "cell_type": "code",
   "execution_count": 3,
   "id": "c9ff0599",
   "metadata": {},
   "outputs": [
    {
     "name": "stdout",
     "output_type": "stream",
     "text": [
      "base-name jmc_27.mol\n",
      "base-name jmc_23.mol\n",
      "base-name ejm_46.mol\n",
      "base-name ejm_50.mol\n",
      "base-name ejm_44.mol\n",
      "valid_Chemical_Rule: [<rdkit.Chem.rdchem.Mol object at 0x7f56d0c7eac0>, <rdkit.Chem.rdchem.Mol object at 0x7f56d0be3200>, <rdkit.Chem.rdchem.Mol object at 0x7f56d0be3270>, <rdkit.Chem.rdchem.Mol object at 0x7f56d0be32e0>, <rdkit.Chem.rdchem.Mol object at 0x7f56d0be3350>]\n",
      "the loop is: 5\n",
      "len_mol_list: (<rdkit.Chem.rdchem.Mol object at 0x7f56d0c7eac0>, <rdkit.Chem.rdchem.Mol object at 0x7f56d0be3200>, <rdkit.Chem.rdchem.Mol object at 0x7f56d0be3270>, <rdkit.Chem.rdchem.Mol object at 0x7f56d0be32e0>, <rdkit.Chem.rdchem.Mol object at 0x7f56d0be3350>)\n",
      "matches ((0, 1, 2, 3, 4, 5, 28, 6, 7, 8, 9, 10, 11, 12, 13, 14, 15, 32, 16, 17, 18, 33, 31, 30, 29, 23, 27, 26),)\n",
      "c1([H])c([H])c(Cl)c(C(=O)N(c2c([H])c([H])nc(N(C=O)[H])c2[H])[H])c(Cl)c1[H]\n",
      "the loop is: 4\n"
     ]
    }
   ],
   "source": [
    "!python check_mols.py -f output/check_ligs_input.json"
   ]
  },
  {
   "attachments": {},
   "cell_type": "markdown",
   "id": "3f0f05f9",
   "metadata": {},
   "source": [
    "## 2. 生成微扰 map\n",
    "\n",
    "edge 属性：\n",
    "1. perturbed_atoms: 微扰原子数\n",
    "1. desirablility: 边的可信度(默认为1)\n",
    "1. atom_map: 分子的原子匹配关系（需要3D可视化）\n",
    "1. cost: 计算该pair的代价；与微扰原子数相关\n",
    "1. similarity: 分子相似性\n",
    "1. MCS: pair 共有子结构\n",
    "\n",
    "参数说明：\n",
    "- `input`: ligands所在位置\n",
    "- `progress_file`: 输出的 plk 文件\n",
    "- `map_info_file`: 输出的 json 文件表示的微扰图结构\n",
    "- `graph_file`: 输出的 svg 文件表示的微扰图结构\n",
    "- `map_type`: 微扰map 类型\n",
    "- `map_bias`: 微扰map 中心分子"
   ]
  },
  {
   "attachments": {},
   "cell_type": "markdown",
   "id": "3d1de309",
   "metadata": {},
   "source": [
    "**Step 1. 生成参数配置文件**"
   ]
  },
  {
   "cell_type": "code",
   "execution_count": 4,
   "id": "e456122d",
   "metadata": {},
   "outputs": [
    {
     "name": "stdout",
     "output_type": "stream",
     "text": [
      "Writing output/gen_map.ini\n"
     ]
    }
   ],
   "source": [
    "%%writefile output/gen_map.ini\n",
    "[generate_perturbation_map]\n",
    "\n",
    "input = output/lig_data_output\n",
    "progress_file = output/progress.pkl\n",
    "map_info_file = output/generdated_map_info.json\n",
    "graph_file = output/best_graph.svg\n",
    "map_type = star\n",
    "map_bias = ejm_46"
   ]
  },
  {
   "attachments": {},
   "cell_type": "markdown",
   "id": "986ab49c",
   "metadata": {},
   "source": [
    "**Step 2. 生成微扰图**"
   ]
  },
  {
   "cell_type": "code",
   "execution_count": 5,
   "id": "096de974",
   "metadata": {},
   "outputs": [
    {
     "name": "stdout",
     "output_type": "stream",
     "text": [
      "the inputs are output/lig_data_output\n",
      "the file is output/lig_data_output/jmc_27.mol\n",
      "the file is output/lig_data_output/jmc_23.mol\n",
      "the file is output/lig_data_output/ejm_46.mol\n",
      "the file is output/lig_data_output/ejm_50.mol\n",
      "the file is output/lig_data_output/ejm_44.mol\n",
      "all_mols: OrderedDict([('jmc_27', <rdkit.Chem.rdchem.Mol object at 0x7f861a5f9120>), ('jmc_23', <rdkit.Chem.rdchem.Mol object at 0x7f861a620ba0>), ('ejm_46', <rdkit.Chem.rdchem.Mol object at 0x7f861a620c10>), ('ejm_50', <rdkit.Chem.rdchem.Mol object at 0x7f861a620c80>), ('ejm_44', <rdkit.Chem.rdchem.Mol object at 0x7f861a620b30>)])\n",
      "map_bias: ejm_46\n",
      "full_thermograph: DiGraph with 5 nodes and 4 edges\n",
      "pos: {'jmc_27': array([9.99999986e-01, 2.18556937e-08]), 'jmc_23': array([-3.57647606e-08,  1.00000000e+00]), 'ejm_50': array([-9.9999997e-01, -6.5567081e-08]), 'ejm_44': array([ 1.98715071e-08, -9.99999956e-01]), 'ejm_46': [0.0, 0.0]}\n"
     ]
    }
   ],
   "source": [
    "!python generate_perturbation_map_atom_map_wangwei.py --config_file output/gen_map.ini"
   ]
  },
  {
   "attachments": {},
   "cell_type": "markdown",
   "id": "16064ee5",
   "metadata": {},
   "source": [
    "## 3. 修改微扰map\n",
    "\n",
    "根据对微扰图中边的增删配置，修改 progress.pkl 文件，同时更新 map_info 文件 和 链接图。\n",
    "修改时会同时删除 度为0的结点。\n",
    "\n",
    "参数说明：\n",
    "- `progress_file`: 被修改的 plk 文件\n",
    "- `map_info_file`: 输出的 json 文件表示的微扰图结构\n",
    "- `graph_file`: 输出的 svg 文件表示的微扰图结构"
   ]
  },
  {
   "attachments": {},
   "cell_type": "markdown",
   "id": "24ba14b7",
   "metadata": {},
   "source": [
    "**Step 1. 生成参数配置文件**"
   ]
  },
  {
   "cell_type": "code",
   "execution_count": 7,
   "id": "5b8c23fb",
   "metadata": {},
   "outputs": [
    {
     "name": "stdout",
     "output_type": "stream",
     "text": [
      "Writing output/modify_map.ini\n"
     ]
    }
   ],
   "source": [
    "%%writefile output/modify_map.ini\n",
    "[modify_perturbation_map]\n",
    "\n",
    "progress_file = output/progress.pkl\n",
    "map_info_file = output/generdated_map_info.json\n",
    "graph_file = output/best_graph.svg"
   ]
  },
  {
   "attachments": {},
   "cell_type": "markdown",
   "id": "9ca88fea",
   "metadata": {},
   "source": [
    "**Step 2. 生成修改配置文件**"
   ]
  },
  {
   "cell_type": "code",
   "execution_count": 9,
   "id": "229979b7",
   "metadata": {},
   "outputs": [
    {
     "name": "stdout",
     "output_type": "stream",
     "text": [
      "Writing output/modify_map_input.json\n"
     ]
    }
   ],
   "source": [
    "%%writefile output/modify_map_input.json\n",
    "{\n",
    "  \"add_edge\": [\n",
    "    [\n",
    "      \"jmc_23\",\n",
    "      \"ejm_46\"\n",
    "    ]\n",
    "  ],\n",
    "  \"del_edge\": [\n",
    "    [\n",
    "      \"ejm_46\",\n",
    "      \"jmc_23\"\n",
    "    ]\n",
    "  ]\n",
    "}"
   ]
  },
  {
   "attachments": {},
   "cell_type": "markdown",
   "id": "5bcf7180",
   "metadata": {},
   "source": [
    "**Step 3. 调用接口，根据参数修改微扰图**"
   ]
  },
  {
   "cell_type": "code",
   "execution_count": 10,
   "id": "64e6d2c8",
   "metadata": {},
   "outputs": [
    {
     "name": "stdout",
     "output_type": "stream",
     "text": [
      "mcs:  ['jmc_23', 'ejm_46'] [H]c1nc(N([H])C(=O)[C@]2([H])C([H])C2([H])[H])c([H])c(N([H])C(=O)c2c(Cl)c([H])c([H])c([H])c2Cl)c1[H]\n",
      "add_edge_mcs:  [['jmc_23', 'ejm_46']]\n",
      "molecules_dict_mol:  {'jmc_27': <rdkit.Chem.PropertyMol.PropertyMol object at 0x7fdd331e4310>, 'jmc_23': <rdkit.Chem.PropertyMol.PropertyMol object at 0x7fdd331e4400>, 'ejm_46': <rdkit.Chem.PropertyMol.PropertyMol object at 0x7fdd331e44a0>, 'ejm_50': <rdkit.Chem.PropertyMol.PropertyMol object at 0x7fdd331e45e0>, 'ejm_44': <rdkit.Chem.PropertyMol.PropertyMol object at 0x7fdd331e46d0>}\n",
      "perturbation_graph_edges: [('ejm_46', 'jmc_27', {'perturbed_atoms': 1, 'desirability': 1.0, 'mcs': <rdkit.Chem.rdchem.Mol object at 0x7fdd331e4c20>, 'atom_map': [(0, 0), (1, 1), (2, 2), (3, 3), (4, 4), (5, 5), (6, 6), (7, 7), (8, 8), (9, 9), (10, 10), (11, 11), (12, 12), (13, 13), (14, 14), (15, 15), (16, 16), (17, 17), (18, 18), (19, 19), (20, 20), (21, 21), (23, 23), (24, 24), (25, 25), (26, 26), (27, 27), (28, 28), (29, 29), (30, 30), (31, 31), (32, 32), (33, 33), (34, 34), (35, 35)], 'simi': 0.8888888888888888, 'cost': 0.79999999751318}), ('ejm_46', 'jmc_23', {'perturbed_atoms': 1, 'desirability': 1.0, 'mcs': <rdkit.Chem.rdchem.Mol object at 0x7fdd331e4ea0>, 'atom_map': [(0, 0), (1, 1), (2, 2), (3, 3), (4, 4), (5, 5), (6, 6), (7, 7), (8, 8), (9, 9), (10, 10), (11, 11), (12, 12), (13, 13), (14, 14), (15, 15), (16, 16), (17, 17), (18, 18), (19, 19), (20, 20), (21, 21), (23, 23), (24, 24), (25, 25), (26, 26), (27, 27), (28, 28), (29, 29), (30, 30), (31, 31), (32, 32), (33, 33), (34, 34), (35, 35)], 'simi': 0.8888888888888888, 'cost': 0.79999999751318}), ('ejm_46', 'ejm_50', {'perturbed_atoms': 5, 'desirability': 1.0, 'mcs': <rdkit.Chem.rdchem.Mol object at 0x7fdd331e4ef0>, 'atom_map': [(0, 0), (1, 1), (2, 2), (3, 3), (4, 4), (5, 5), (6, 6), (7, 7), (8, 8), (9, 9), (10, 10), (11, 11), (12, 12), (13, 13), (14, 14), (15, 15), (16, 16), (17, 17), (18, 18), (23, 20), (26, 22), (27, 23), (28, 24), (29, 25), (30, 26), (31, 27), (32, 28), (33, 29)], 'simi': 0.8275862068965517, 'cost': 0.9996799999801055}), ('ejm_46', 'ejm_44', {'perturbed_atoms': 7, 'desirability': 1.0, 'mcs': <rdkit.Chem.rdchem.Mol object at 0x7fdd331e4f40>, 'atom_map': [(0, 0), (1, 1), (2, 2), (3, 3), (4, 4), (5, 5), (6, 6), (7, 7), (8, 8), (9, 9), (10, 10), (11, 11), (12, 12), (13, 13), (14, 14), (15, 15), (16, 16), (17, 17), (18, 18), (23, 20), (26, 22), (27, 23), (28, 24), (29, 25), (30, 26), (31, 27), (32, 28), (33, 29)], 'simi': 0.7708333333333334, 'cost': 0.9999871999988859}), ('jmc_23', 'ejm_46', {'perturbed_atoms': 1, 'desirability': 1.0, 'mcs': <rdkit.Chem.rdchem.Mol object at 0x7fdd333bddd0>, 'atom_map': [(0, 0), (1, 1), (2, 2), (3, 3), (4, 4), (5, 5), (6, 6), (7, 7), (8, 8), (9, 9), (10, 10), (11, 11), (12, 12), (13, 13), (14, 14), (15, 15), (16, 16), (17, 17), (18, 18), (19, 19), (20, 20), (21, 21), (23, 23), (24, 24), (25, 25), (26, 26), (27, 27), (28, 28), (29, 29), (30, 30), (31, 31), (32, 32), (33, 33), (34, 34), (35, 35)], 'simi': 0.8888888888888888, 'cost': 0.79999999751318})]\n",
      "perturbation_graph_nodes: [('ejm_46', {}), ('jmc_27', {}), ('jmc_23', {}), ('ejm_50', {}), ('ejm_44', {})]\n",
      "merged_perturbation_map_added:  {('ejm_46', 'jmc_27'): {'perturbed_atoms': 1, 'desirability': 1.0, 'mcs': <rdkit.Chem.rdchem.Mol object at 0x7fdd331e4c20>, 'atom_map': [(0, 0), (1, 1), (2, 2), (3, 3), (4, 4), (5, 5), (6, 6), (7, 7), (8, 8), (9, 9), (10, 10), (11, 11), (12, 12), (13, 13), (14, 14), (15, 15), (16, 16), (17, 17), (18, 18), (19, 19), (20, 20), (21, 21), (23, 23), (24, 24), (25, 25), (26, 26), (27, 27), (28, 28), (29, 29), (30, 30), (31, 31), (32, 32), (33, 33), (34, 34), (35, 35)], 'simi': 0.8888888888888888, 'cost': 0.79999999751318}, ('ejm_46', 'jmc_23'): {'perturbed_atoms': 1, 'desirability': 1.0, 'mcs': <rdkit.Chem.rdchem.Mol object at 0x7fdd331e4ea0>, 'atom_map': [(0, 0), (1, 1), (2, 2), (3, 3), (4, 4), (5, 5), (6, 6), (7, 7), (8, 8), (9, 9), (10, 10), (11, 11), (12, 12), (13, 13), (14, 14), (15, 15), (16, 16), (17, 17), (18, 18), (19, 19), (20, 20), (21, 21), (23, 23), (24, 24), (25, 25), (26, 26), (27, 27), (28, 28), (29, 29), (30, 30), (31, 31), (32, 32), (33, 33), (34, 34), (35, 35)], 'simi': 0.8888888888888888, 'cost': 0.79999999751318}, ('ejm_46', 'ejm_50'): {'perturbed_atoms': 5, 'desirability': 1.0, 'mcs': <rdkit.Chem.rdchem.Mol object at 0x7fdd331e4ef0>, 'atom_map': [(0, 0), (1, 1), (2, 2), (3, 3), (4, 4), (5, 5), (6, 6), (7, 7), (8, 8), (9, 9), (10, 10), (11, 11), (12, 12), (13, 13), (14, 14), (15, 15), (16, 16), (17, 17), (18, 18), (23, 20), (26, 22), (27, 23), (28, 24), (29, 25), (30, 26), (31, 27), (32, 28), (33, 29)], 'simi': 0.8275862068965517, 'cost': 0.9996799999801055}, ('ejm_46', 'ejm_44'): {'perturbed_atoms': 7, 'desirability': 1.0, 'mcs': <rdkit.Chem.rdchem.Mol object at 0x7fdd331e4f40>, 'atom_map': [(0, 0), (1, 1), (2, 2), (3, 3), (4, 4), (5, 5), (6, 6), (7, 7), (8, 8), (9, 9), (10, 10), (11, 11), (12, 12), (13, 13), (14, 14), (15, 15), (16, 16), (17, 17), (18, 18), (23, 20), (26, 22), (27, 23), (28, 24), (29, 25), (30, 26), (31, 27), (32, 28), (33, 29)], 'simi': 0.7708333333333334, 'cost': 0.9999871999988859}, ('jmc_23', 'ejm_46'): {'perturbed_atoms': 1, 'desirability': 1.0, 'mcs': <rdkit.Chem.rdchem.Mol object at 0x7fdd333bddd0>, 'atom_map': [(0, 0), (1, 1), (2, 2), (3, 3), (4, 4), (5, 5), (6, 6), (7, 7), (8, 8), (9, 9), (10, 10), (11, 11), (12, 12), (13, 13), (14, 14), (15, 15), (16, 16), (17, 17), (18, 18), (19, 19), (20, 20), (21, 21), (23, 23), (24, 24), (25, 25), (26, 26), (27, 27), (28, 28), (29, 29), (30, 30), (31, 31), (32, 32), (33, 33), (34, 34), (35, 35)], 'simi': 0.8888888888888888, 'cost': 0.79999999751318}}\n",
      "merged_perturbation_map_deleted:  {('ejm_46', 'jmc_27'): {'perturbed_atoms': 1, 'desirability': 1.0, 'mcs': <rdkit.Chem.rdchem.Mol object at 0x7fdd331e4c20>, 'atom_map': [(0, 0), (1, 1), (2, 2), (3, 3), (4, 4), (5, 5), (6, 6), (7, 7), (8, 8), (9, 9), (10, 10), (11, 11), (12, 12), (13, 13), (14, 14), (15, 15), (16, 16), (17, 17), (18, 18), (19, 19), (20, 20), (21, 21), (23, 23), (24, 24), (25, 25), (26, 26), (27, 27), (28, 28), (29, 29), (30, 30), (31, 31), (32, 32), (33, 33), (34, 34), (35, 35)], 'simi': 0.8888888888888888, 'cost': 0.79999999751318}, ('ejm_46', 'ejm_50'): {'perturbed_atoms': 5, 'desirability': 1.0, 'mcs': <rdkit.Chem.rdchem.Mol object at 0x7fdd331e4ef0>, 'atom_map': [(0, 0), (1, 1), (2, 2), (3, 3), (4, 4), (5, 5), (6, 6), (7, 7), (8, 8), (9, 9), (10, 10), (11, 11), (12, 12), (13, 13), (14, 14), (15, 15), (16, 16), (17, 17), (18, 18), (23, 20), (26, 22), (27, 23), (28, 24), (29, 25), (30, 26), (31, 27), (32, 28), (33, 29)], 'simi': 0.8275862068965517, 'cost': 0.9996799999801055}, ('ejm_46', 'ejm_44'): {'perturbed_atoms': 7, 'desirability': 1.0, 'mcs': <rdkit.Chem.rdchem.Mol object at 0x7fdd331e4f40>, 'atom_map': [(0, 0), (1, 1), (2, 2), (3, 3), (4, 4), (5, 5), (6, 6), (7, 7), (8, 8), (9, 9), (10, 10), (11, 11), (12, 12), (13, 13), (14, 14), (15, 15), (16, 16), (17, 17), (18, 18), (23, 20), (26, 22), (27, 23), (28, 24), (29, 25), (30, 26), (31, 27), (32, 28), (33, 29)], 'simi': 0.7708333333333334, 'cost': 0.9999871999988859}, ('jmc_23', 'ejm_46'): {'perturbed_atoms': 1, 'desirability': 1.0, 'mcs': <rdkit.Chem.rdchem.Mol object at 0x7fdd333bddd0>, 'atom_map': [(0, 0), (1, 1), (2, 2), (3, 3), (4, 4), (5, 5), (6, 6), (7, 7), (8, 8), (9, 9), (10, 10), (11, 11), (12, 12), (13, 13), (14, 14), (15, 15), (16, 16), (17, 17), (18, 18), (19, 19), (20, 20), (21, 21), (23, 23), (24, 24), (25, 25), (26, 26), (27, 27), (28, 28), (29, 29), (30, 30), (31, 31), (32, 32), (33, 33), (34, 34), (35, 35)], 'simi': 0.8888888888888888, 'cost': 0.79999999751318}}\n",
      "perturbation_graph_edges: [('ejm_46', 'jmc_27', {'perturbed_atoms': 1, 'desirability': 1.0, 'mcs': <rdkit.Chem.rdchem.Mol object at 0x7fdd331e4c20>, 'atom_map': [(0, 0), (1, 1), (2, 2), (3, 3), (4, 4), (5, 5), (6, 6), (7, 7), (8, 8), (9, 9), (10, 10), (11, 11), (12, 12), (13, 13), (14, 14), (15, 15), (16, 16), (17, 17), (18, 18), (19, 19), (20, 20), (21, 21), (23, 23), (24, 24), (25, 25), (26, 26), (27, 27), (28, 28), (29, 29), (30, 30), (31, 31), (32, 32), (33, 33), (34, 34), (35, 35)], 'simi': 0.8888888888888888, 'cost': 0.79999999751318}), ('ejm_46', 'ejm_50', {'perturbed_atoms': 5, 'desirability': 1.0, 'mcs': <rdkit.Chem.rdchem.Mol object at 0x7fdd331e4ef0>, 'atom_map': [(0, 0), (1, 1), (2, 2), (3, 3), (4, 4), (5, 5), (6, 6), (7, 7), (8, 8), (9, 9), (10, 10), (11, 11), (12, 12), (13, 13), (14, 14), (15, 15), (16, 16), (17, 17), (18, 18), (23, 20), (26, 22), (27, 23), (28, 24), (29, 25), (30, 26), (31, 27), (32, 28), (33, 29)], 'simi': 0.8275862068965517, 'cost': 0.9996799999801055}), ('ejm_46', 'ejm_44', {'perturbed_atoms': 7, 'desirability': 1.0, 'mcs': <rdkit.Chem.rdchem.Mol object at 0x7fdd331e4f40>, 'atom_map': [(0, 0), (1, 1), (2, 2), (3, 3), (4, 4), (5, 5), (6, 6), (7, 7), (8, 8), (9, 9), (10, 10), (11, 11), (12, 12), (13, 13), (14, 14), (15, 15), (16, 16), (17, 17), (18, 18), (23, 20), (26, 22), (27, 23), (28, 24), (29, 25), (30, 26), (31, 27), (32, 28), (33, 29)], 'simi': 0.7708333333333334, 'cost': 0.9999871999988859}), ('jmc_23', 'ejm_46', {'perturbed_atoms': 1, 'desirability': 1.0, 'mcs': <rdkit.Chem.rdchem.Mol object at 0x7fdd333bddd0>, 'atom_map': [(0, 0), (1, 1), (2, 2), (3, 3), (4, 4), (5, 5), (6, 6), (7, 7), (8, 8), (9, 9), (10, 10), (11, 11), (12, 12), (13, 13), (14, 14), (15, 15), (16, 16), (17, 17), (18, 18), (19, 19), (20, 20), (21, 21), (23, 23), (24, 24), (25, 25), (26, 26), (27, 27), (28, 28), (29, 29), (30, 30), (31, 31), (32, 32), (33, 33), (34, 34), (35, 35)], 'simi': 0.8888888888888888, 'cost': 0.79999999751318})]\n",
      "perturbation_graph_nodes: [('ejm_46', {}), ('jmc_27', {}), ('jmc_23', {}), ('ejm_50', {}), ('ejm_44', {})]\n",
      "full_thermograph: DiGraph with 5 nodes and 4 edges\n",
      "pos: {'jmc_27': array([9.99999986e-01, 2.18556937e-08]), 'jmc_23': array([-3.57647606e-08,  1.00000000e+00]), 'ejm_50': array([-9.9999997e-01, -6.5567081e-08]), 'ejm_44': array([ 1.98715071e-08, -9.99999956e-01]), 'ejm_46': [0.0, 0.0]}\n"
     ]
    }
   ],
   "source": [
    "!python modify_perturbation_map_zcc.py --config_file output/modify_map.ini -f output/modify_map_input.json"
   ]
  },
  {
   "attachments": {},
   "cell_type": "markdown",
   "id": "1b76a5e7",
   "metadata": {},
   "source": [
    "## 4. 修改指定边的AtomMap"
   ]
  },
  {
   "attachments": {},
   "cell_type": "markdown",
   "id": "745abcf6",
   "metadata": {},
   "source": [
    "根据对 Atom Map 中边的增删配置，修改 progress.pkl 文件，同时更新 map_info 文件。\n",
    "\n",
    "参数说明：\n",
    "- `progress_file`: 被修改的 plk 文件\n",
    "- `map_info_file`: 输出的 json 文件表示的微扰图结构"
   ]
  },
  {
   "attachments": {},
   "cell_type": "markdown",
   "id": "163fc45e",
   "metadata": {},
   "source": [
    "**Step 1. 生成参数配置文件**"
   ]
  },
  {
   "cell_type": "code",
   "execution_count": 12,
   "id": "e6a21316",
   "metadata": {},
   "outputs": [
    {
     "name": "stdout",
     "output_type": "stream",
     "text": [
      "Overwriting output/modify_atom_map.ini\n"
     ]
    }
   ],
   "source": [
    "%%writefile output/modify_atom_map.ini\n",
    "[modify_atom_map]\n",
    "\n",
    "progress_file = output/progress.pkl\n",
    "map_info_file = output/generdated_map_info.json"
   ]
  },
  {
   "attachments": {},
   "cell_type": "markdown",
   "id": "4b4e103e",
   "metadata": {},
   "source": [
    "**Step 2. 生成修改配置文件**"
   ]
  },
  {
   "cell_type": "code",
   "execution_count": 18,
   "id": "9789a231",
   "metadata": {},
   "outputs": [
    {
     "name": "stdout",
     "output_type": "stream",
     "text": [
      "Overwriting output/modify_atom_map_input.json\n"
     ]
    }
   ],
   "source": [
    "%%writefile output/modify_atom_map_input.json\n",
    "{\n",
    "  \"add_atom_pair\": {\n",
    "    \"ejm_46,jmc_27\": [\n",
    "      [\n",
    "        1,\n",
    "        1\n",
    "      ]\n",
    "    ]\n",
    "  },\n",
    "  \"del_atom_pair\": {\n",
    "    \"ejm_46,jmc_27\": [\n",
    "      [\n",
    "        0,\n",
    "        0\n",
    "      ],\n",
    "      [\n",
    "        1,\n",
    "        1\n",
    "      ]\n",
    "    ]\n",
    "  }\n",
    "}"
   ]
  },
  {
   "attachments": {},
   "cell_type": "markdown",
   "id": "fcc6451a",
   "metadata": {},
   "source": [
    "**Step 3. 调用接口，根据参数修改原子图**"
   ]
  },
  {
   "cell_type": "code",
   "execution_count": 19,
   "id": "6e6464b7",
   "metadata": {},
   "outputs": [
    {
     "name": "stdout",
     "output_type": "stream",
     "text": [
      "('ejm_46', 'jmc_27') [(2, 2), (3, 3), (4, 4), (5, 5), (6, 6), (7, 7), (8, 8), (9, 9), (10, 10), (11, 11), (12, 12), (13, 13), (14, 14), (15, 15), (16, 16), (17, 17), (18, 18), (19, 19), (20, 20), (21, 21), (23, 23), (24, 24), (25, 25), (26, 26), (27, 27), (28, 28), (29, 29), (30, 30), (31, 31), (32, 32), (33, 33), (34, 34), (35, 35)] 3\n",
      "finished modified_lig_atommap\n"
     ]
    }
   ],
   "source": [
    "!python modified_lig_atommap.py --config_file output/modify_atom_map.ini -f output/modify_atom_map_input.json"
   ]
  },
  {
   "attachments": {},
   "cell_type": "markdown",
   "id": "5885ebe7",
   "metadata": {},
   "source": [
    "## 5. align 配体到口袋\n",
    "\n",
    "将所有配体的构象匹配到口袋，首先将 中心分子 基于Docking方法对接到口袋，这个方法可以把其他的配体分子对齐到中心分子，这样也就匹配到口袋了。\n",
    "\n",
    "参数说明：\n",
    "- `progress_file`: 参考pkl文件\n",
    "- `ref_mol_path`: 经过 docking 的分子作为参考分子\n",
    "- `lig_data_path`: 待匹配的分子"
   ]
  },
  {
   "attachments": {},
   "cell_type": "markdown",
   "id": "adf66e12",
   "metadata": {},
   "source": [
    "**Step 1. 生成参数文件**"
   ]
  },
  {
   "cell_type": "code",
   "execution_count": 24,
   "id": "4b970120",
   "metadata": {},
   "outputs": [
    {
     "name": "stdout",
     "output_type": "stream",
     "text": [
      "Overwriting output/align_ligs_input.json\n"
     ]
    }
   ],
   "source": [
    "%%writefile output/align_ligs_input.json\n",
    "{\n",
    "  \"progress_file\": \"output/progress.pkl\",\n",
    "  \"ref_mol_path\": \"docs/example/lig_data/ejm_46.mol\",\n",
    "  \"lig_data_path\": \"output/lig_data_output\",\n",
    "  \"aligned_lig_data_path\": \"output/aligned_lig_data\"\n",
    "}"
   ]
  },
  {
   "attachments": {},
   "cell_type": "markdown",
   "id": "f5e374a2",
   "metadata": {},
   "source": [
    "**Step 2. 调用接口，对齐配体到口袋**"
   ]
  },
  {
   "cell_type": "code",
   "execution_count": 26,
   "id": "cc6be3e7",
   "metadata": {},
   "outputs": [
    {
     "name": "stdout",
     "output_type": "stream",
     "text": [
      "translation_list (8, 7, 9, 10, 11, 12, 13, 14, 16, 17, 18, 19, 20, 21, 15, 3, 2, 23, 1, 0, 5, 4, 6)\n",
      "translation_list (0, 1, 2, 23, 3, 7, 8, 9, 10, 11, 12, 13, 14, 16, 17, 18, 19, 20, 21, 15, 4, 6, 5)\n",
      "translation_list (8, 7, 9, 10, 11, 12, 13, 14, 16, 17, 18, 19, 20, 21, 15, 3, 2, 23, 1, 0, 5, 4, 6)\n",
      "translation_list (0, 1, 2, 20, 3, 7, 8, 9, 10, 11, 12, 13, 14, 16, 17, 18, 15, 4, 6, 5)\n",
      "translation_list (8, 7, 9, 10, 11, 12, 13, 14, 16, 17, 18, 19, 20, 21, 15, 3, 2, 23, 1, 0, 5, 4, 6)\n",
      "translation_list (0, 1, 2, 20, 3, 7, 8, 9, 10, 11, 12, 13, 14, 16, 17, 18, 15, 4, 6, 5)\n",
      "translation_list (0, 1, 2, 23, 3, 7, 8, 9, 10, 11, 12, 13, 14, 16, 17, 18, 19, 20, 21, 15, 4, 6, 5)\n",
      "translation_list (8, 7, 9, 10, 11, 12, 13, 14, 16, 17, 18, 19, 20, 21, 15, 3, 2, 23, 1, 0, 5, 4, 6)\n"
     ]
    }
   ],
   "source": [
    "!python alignment_ligands_zcc.py -f output/align_ligs_input.json"
   ]
  },
  {
   "attachments": {},
   "cell_type": "markdown",
   "id": "be020481",
   "metadata": {},
   "source": [
    "## 6. 生成配体拓扑文件(.itp)"
   ]
  },
  {
   "attachments": {},
   "cell_type": "markdown",
   "id": "f5fd141a",
   "metadata": {},
   "source": [
    "为配体分子生成拓扑文件，目前有两种方法：\n",
    "- sob: 基于sobtop 软件生成 配体力场，特点：生成拓扑文件速度比较高；缺点，生成带电荷配体力场会出错，且不能生成gaff2力场\n",
    "- acp: acpype软件优点是，配体无论带有电荷均可以生成拓扑文件，并且能够生成gaff 和 gaff2两种版本的gaff力场拓扑文件；缺点：生成拓扑文件速率较低"
   ]
  },
  {
   "cell_type": "code",
   "execution_count": null,
   "id": "b6030af5",
   "metadata": {},
   "outputs": [],
   "source": [
    "# 使用sobtop生成拓扑文件\n",
    "!python gen_lig_itp_sob.py -input /home/work/pyautofep/PyAutoFEP/aligned_lig_data"
   ]
  },
  {
   "cell_type": "code",
   "execution_count": null,
   "id": "a22549b8",
   "metadata": {},
   "outputs": [],
   "source": [
    "# 使用acpype生成拓扑文件\n",
    "!python gen_lig_itp_acp.py --lig_dir output/aligned_lig_data --output_dir output/lig_itp_data"
   ]
  },
  {
   "attachments": {},
   "cell_type": "markdown",
   "id": "b6af2af0",
   "metadata": {},
   "source": [
    "## 7. 生成dual_topl文件\n",
    "\n",
    "配置文件参数说明：\n",
    "- `input_ligands`      : ligands 所在目录\n",
    "- `structure`          : protein 所在目录\n",
    "- `perturbations_dir`  : 生成文件所在目录\n",
    "- `gmx_bin_local`      : gromacs 命令\n",
    "- `buildsys_forcefield`: protein 采用力场 1: amber03\n",
    "- `md_temperature`     : MD模拟温度:*k\n",
    "- `md_length`          : MD模拟时间长度：5000 ps"
   ]
  },
  {
   "attachments": {},
   "cell_type": "markdown",
   "id": "1bb22eaa",
   "metadata": {},
   "source": [
    "**Step 1. 生成参数文件**"
   ]
  },
  {
   "cell_type": "code",
   "execution_count": null,
   "id": "a3a5e25d",
   "metadata": {},
   "outputs": [],
   "source": [
    "%%writefile output/step2.ini\n",
    "[prepare_dual_topology]\n",
    "\n",
    "input_ligands = output/aligned_lig_data\n",
    "structure = docs/example/5q17_processed.pdb\n",
    "perturbations_dir = tutorial\n",
    "gmx_bin_local = gmx_mpi\n",
    "buildsys_forcefield = 1\n",
    "md_temperature = 298.15\n",
    "md_length = 5000.0 "
   ]
  },
  {
   "attachments": {},
   "cell_type": "markdown",
   "id": "59064a72",
   "metadata": {},
   "source": [
    "**Step 2. 调用接口，生成dual topl文件**"
   ]
  },
  {
   "cell_type": "code",
   "execution_count": null,
   "id": "b4e8a3f1",
   "metadata": {},
   "outputs": [],
   "source": [
    "!python prepare_dual_topology_zcc.py --config_file=step2.ini --output_hidden_temp_dir False"
   ]
  }
 ],
 "metadata": {
  "kernelspec": {
   "display_name": "Python 3 (ipykernel)",
   "language": "python",
   "name": "python3"
  },
  "language_info": {
   "codemirror_mode": {
    "name": "ipython",
    "version": 3
   },
   "file_extension": ".py",
   "mimetype": "text/x-python",
   "name": "python",
   "nbconvert_exporter": "python",
   "pygments_lexer": "ipython3",
   "version": "3.8.13"
  }
 },
 "nbformat": 4,
 "nbformat_minor": 5
}
